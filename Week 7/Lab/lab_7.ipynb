{
 "cells": [
  {
   "cell_type": "markdown",
   "metadata": {
    "deletable": false,
    "editable": false,
    "nbgrader": {
     "cell_type": "markdown",
     "checksum": "efa1d0edd9b011326ce9cab965aa312c",
     "grade": false,
     "grade_id": "cell-513963dffd022dec",
     "locked": true,
     "schema_version": 3,
     "solution": false
    }
   },
   "source": [
    "# Data Fundamentals (H)\n",
    "John H. Williamson -- Session 2020/2021\n",
    "\n",
    "----\n",
    "\n",
    "**This submission must be your own work; you will have to make a Declaration of Originality on submission.**\n",
    "\n"
   ]
  },
  {
   "cell_type": "markdown",
   "metadata": {},
   "source": [
    "---"
   ]
  },
  {
   "cell_type": "markdown",
   "metadata": {},
   "source": [
    "## Lab 5: **Assessed**\n",
    "# Optimisation and gradient descent\n"
   ]
  },
  {
   "cell_type": "markdown",
   "metadata": {},
   "source": [
    "### Notes\n",
    "It is recommended to keep the lecture notes open while doing this lab exercise.\n",
    "\n",
    "**This exercise is assessed and is marked out of 60**. Make sure you upload your solution by the deadline. See the notes at the bottom of this notebook for submission guidance.\n",
    "\n",
    "### Guidance\n",
    "This lab is structured like a worked tutorial, rather than an \"open\" exercise. Make sure you read the instructions carefully. There is less thinking but more reading required in this exercise than in previous labs.\n",
    "\n",
    "$$\\newcommand{\\vec}[1]{ {\\bf #1}} \n",
    "\\newcommand{\\real}{\\mathbb{R}}\n",
    "\\DeclareMathOperator*{\\argmin}{arg\\,min}\n",
    "\\vec{x}\\real\n",
    "$$"
   ]
  },
  {
   "cell_type": "markdown",
   "metadata": {},
   "source": [
    "## Purpose of this lab\n",
    "This lab should help you:    \n",
    "* understand how optimisation can be used to solve approximation problems.\n",
    "* understand how learning can be seen as an optimisation problem.\n",
    "* use automatic differentiation to accelerate optimisation.\n",
    "\n",
    "You will implement a very simple form of **deep learning** in this lab, using first-order optimisation to learn an approximating function.\n",
    "\n",
    " If you find the concepts difficult, you might find this video helpful: [**How machines learn**](https://www.youtube.com/watch?v=IHZwWFHWa-w).\n"
   ]
  },
  {
   "cell_type": "markdown",
   "metadata": {},
   "source": [
    "## Before you start\n",
    "You need to install `autograd.` The cell below will autoinstall this for you if the machine you are using does not already have it installed. \n",
    "\n",
    "<div class=\"alert alert-box alert-danger\">\n",
    "    \n",
    "If autograd installs when your run this cell, you must restart the kernel to correctly import it!\n",
    "</div>    "
   ]
  },
  {
   "cell_type": "code",
   "execution_count": 2,
   "metadata": {},
   "outputs": [
    {
     "name": "stdout",
     "output_type": "stream",
     "text": [
      "autograd succesfully imported. Everything OK. \n",
      "Everything imported OK\n"
     ]
    },
    {
     "name": "stderr",
     "output_type": "stream",
     "text": [
      "C:\\Users\\Inesh\\Anaconda3\\lib\\site-packages\\IPython\\kernel\\__init__.py:13: ShimWarning: The `IPython.kernel` package has been deprecated since IPython 4.0.You should import from ipykernel or jupyter_client instead.\n",
      "  \"You should import from ipykernel or jupyter_client instead.\", ShimWarning)\n"
     ]
    }
   ],
   "source": [
    "try:\n",
    "    import autograd.numpy as np\n",
    "    from autograd import grad, elementwise_grad    \n",
    "    from autograd.misc.flatten import flatten    \n",
    "    print(\"autograd succesfully imported. Everything OK. \")\n",
    "    # Standard imports    \n",
    "    \n",
    "    # custom utils\n",
    "    from jhwutils.checkarr import array_hash, check_hash\n",
    "    import jhwutils.image_audio as ia\n",
    "    import jhwutils.tick as tick\n",
    "    np.set_printoptions(suppress=True)\n",
    "\n",
    "    # Set up Matplotlib\n",
    "    import matplotlib as mpl   \n",
    "    import matplotlib.pyplot as plt\n",
    "    %matplotlib inline\n",
    "    print(\"Everything imported OK\")\n",
    "    plt.rc('figure', figsize=(8.0, 4.0), dpi=140)\n",
    "except:\n",
    "    # couldn't import, install the package\n",
    "    print(\"autograd not found.\\nInstalling autograd from git...\")\n",
    "    !pip install --no-cache --user git+https://github.com/HIPS/autograd\n",
    "    print(\"Please restart the kernel (Kernel/Restart) and run the import cells again.\")    "
   ]
  },
  {
   "cell_type": "markdown",
   "metadata": {},
   "source": [
    "# Tutorial: gradient descent\n",
    "\n",
    "## Background\n",
    "\n",
    "* An optimisation *problem* has **parameters**, (possibly) **constraints** and an **objective function**.\n",
    "\n",
    "* An optimisation *algorithm* has **hyperparameters** which determine how the search for the best parameter setting is conducted (for example, how big of a step to take when trying to move down the gradient of a function).\n",
    "\n",
    "* We will be working with **differentiable** objective functions, where we can compute the gradient of the function at any point, and use this information to quickly move towards the minimum.\n",
    "\n",
    "### Simple optimisation\n",
    "\n",
    "Suppose we have a 4D parameter space ($\\theta \\in \\real^4$), and an objective function $$L(\\theta) = \\sum_i (\\theta_i-i)^2$$\n",
    "\n",
    "We can write this in code:\n",
    "\n"
   ]
  },
  {
   "cell_type": "code",
   "execution_count": 3,
   "metadata": {},
   "outputs": [],
   "source": [
    "def l(theta): # objective function\n",
    "    i = np.arange(len(theta))  # 0, 1, 2, ...\n",
    "    return np.sum((theta - i) ** 2)  # sum of squares difference"
   ]
  },
  {
   "cell_type": "code",
   "execution_count": 4,
   "metadata": {},
   "outputs": [
    {
     "name": "stdout",
     "output_type": "stream",
     "text": [
      "15.79\n"
     ]
    }
   ],
   "source": [
    "# some random point in a 4D vector space\n",
    "theta_0 = np.array([0.1, 0.2, 0.3, -0.5])\n",
    "\n",
    "# compute loss (objective function value) at this point\n",
    "print(l(theta_0))"
   ]
  },
  {
   "cell_type": "markdown",
   "metadata": {},
   "source": [
    "How could we find the value where this objective function has a minimum -- the setting of $\\theta$ that minmises $L(\\theta)$? The answer is possibly obvious by inspection (it's the vector $[0,1,2,3]$), but assume we didn't already know this."
   ]
  },
  {
   "cell_type": "markdown",
   "metadata": {},
   "source": [
    "### Random search: guessing solutions\n",
    "One solution would be to use purely random search, guessing a random $\\theta$ and keeping the best guess so far:"
   ]
  },
  {
   "cell_type": "code",
   "execution_count": 5,
   "metadata": {},
   "outputs": [
    {
     "name": "stdout",
     "output_type": "stream",
     "text": [
      "Best random guess [-0.16918377  1.05119134  2.77061743  2.44545217], loss 0.93\n",
      "Best random guess [-0.50523686  0.12017663  1.258764    2.53820979], loss 1.79\n",
      "Best random guess [-0.61103061  0.46247883  2.53234919  2.81458117], loss 0.98\n",
      "Best random guess [0.30952519 0.65466548 3.06216744 3.81791383], loss 2.01\n",
      "Best random guess [0.28983761 2.05764936 1.16364807 3.21907244], loss 1.95\n",
      "Best random guess [0.13515092 0.59394913 2.11399359 3.50123131], loss 0.45\n",
      "Best random guess [1.09652166 0.88088228 2.27112916 4.193174  ], loss 2.71\n",
      "Best random guess [-0.04754276  2.17030359  1.34162373  3.19580324], loss 1.84\n",
      "Best random guess [-0.44193472 -0.51307128  2.14829561  2.79703572], loss 2.55\n",
      "Best random guess [1.49532531 0.95002838 2.31632764 3.18242229], loss 2.37\n"
     ]
    }
   ],
   "source": [
    "def random_search(l, max_iters, guess_fn):\n",
    "    best_guess, best_loss = None, None    \n",
    "    \n",
    "    for i in range(max_iters):\n",
    "        # random guess\n",
    "        guess = guess_fn()\n",
    "        loss = l(guess) # work out how bad it is\n",
    "        # check if we beat the record\n",
    "        if best_loss is None or l(guess)<best_loss:\n",
    "            best_loss = l(guess)\n",
    "            best_guess = guess\n",
    "    return best_guess\n",
    "\n",
    "# guess a vector between -10 and 10, with 4 elements \n",
    "def guess():\n",
    "    return np.random.uniform(-10, 10, 4) \n",
    "\n",
    "np.random.seed(2018)\n",
    "# try 10 repetitions\n",
    "for i in range(10):\n",
    "    result =  random_search(l, 10000, guess)\n",
    "    print(\"Best random guess {guess}, loss {loss:.2f}\".format(guess=result, loss=l(result)))\n",
    "    "
   ]
  },
  {
   "cell_type": "markdown",
   "metadata": {},
   "source": [
    "### Hill climbing\n",
    "This does not work very well, and does not ever closely approximate the vector `[0,1,2,3]`. But the space of the objective function is continuous and our objective function might also be continuous. This means we could take advantage of the continuity; a small change in our parameters might lead to a small change in the objective function.\n",
    "\n",
    "**Task** Write code to do stochastic hill-climbing search, instead of pure random search. Adjust the parameterisation of the search until the tests pass (this should be relatively easy). Note that the test will test against a **random** target; you can't hardcode the solution to just return `[0,1,2,3]`!"
   ]
  },
  {
   "cell_type": "code",
   "execution_count": 6,
   "metadata": {
    "deletable": false,
    "nbgrader": {
     "cell_type": "code",
     "checksum": "54eed852360d291da21f9bab2b97e768",
     "grade": false,
     "grade_id": "cell-cda2614894aa7b73",
     "locked": false,
     "schema_version": 3,
     "solution": true
    }
   },
   "outputs": [],
   "source": [
    "def guess():\n",
    "    return np.random.uniform(-10, 10, 4)\n",
    "\n",
    "def neighbour(x):\n",
    "    return np.random.normal(0, 0.1, x.shape) + x\n",
    "    \n",
    "def hill_climbing(l, max_iters, guess_fn, neighbour_fn):\n",
    "    best_guess = guess_fn()\n",
    "    best_loss = l(best_guess)    \n",
    "    \n",
    "    for i in range(max_iters):\n",
    "        guess = neighbour_fn(best_guess)\n",
    "        if l(guess) < best_loss:\n",
    "            best_loss = l(guess)\n",
    "            best_guess = guess\n",
    "\n",
    "    return best_guess"
   ]
  },
  {
   "cell_type": "markdown",
   "metadata": {},
   "source": [
    "### Testing hill-climbing\n",
    "The code below will test your solution. It should be apparent that hill climbing does a much better job, getting to a good solution within 5000 iterations.\n",
    "\n",
    "You must have defined functions:\n",
    "    \n",
    "* `hill_climbing`\n",
    "* `guess` (returns a random guess)\n",
    "* `neighbour` (returns a modification of a current estimate for theta)\n",
    "\n",
    "How you implement and use these is up to you.\n",
    "\n",
    "The hill climbing optimiser should expect to optimise a 4 element parameter vector."
   ]
  },
  {
   "cell_type": "code",
   "execution_count": 7,
   "metadata": {
    "deletable": false,
    "editable": false,
    "nbgrader": {
     "cell_type": "code",
     "checksum": "ac0bf1d0eb562d9c6400fe3b908c3687",
     "grade": true,
     "grade_id": "cell-e84092f988d1db33",
     "locked": true,
     "points": 4,
     "schema_version": 3,
     "solution": false
    }
   },
   "outputs": [
    {
     "name": "stdout",
     "output_type": "stream",
     "text": [
      "Loss on run 0 is 8.45e-04\n",
      "Loss on run 1 is 8.23e-04\n",
      "Loss on run 2 is 3.91e-04\n",
      "Loss on run 3 is 6.41e-04\n",
      "Loss on run 4 is 6.46e-04\n",
      "Loss on run 5 is 2.33e-04\n",
      "Loss on run 6 is 5.39e-04\n",
      "Loss on run 7 is 1.87e-04\n",
      "Loss on run 8 is 3.61e-04\n",
      "Loss on run 9 is 4.61e-04\n"
     ]
    },
    {
     "data": {
      "text/html": [
       "\n",
       "        <div class=\"alert alert-box alert-success\">\n",
       "        <h1> <!--{id:\"CORRECTMARK\", marks:\"4\"}--> \n",
       "         ✓ [4 marks] \n",
       "         </h1> </div>"
      ],
      "text/plain": [
       "<IPython.core.display.HTML object>"
      ]
     },
     "metadata": {},
     "output_type": "display_data"
    }
   ],
   "source": [
    "# try 10 times\n",
    "with tick.marks(4):\n",
    "    np.random.seed(2018)\n",
    "    passed = True\n",
    "    for i in range(10):\n",
    "        target = np.random.uniform(0,4,4)\n",
    "        # use a random target :)\n",
    "        def custom_l(theta):\n",
    "            return np.sum((theta-target)**2)          \n",
    "        # 5000 iterations\n",
    "        result = hill_climbing(custom_l, 5000, guess, neighbour)\n",
    "        difference = custom_l(result)               \n",
    "        print(\"Loss on run {i} is {loss:.2e}\".format(i=i, loss=difference))        \n",
    "        if difference>0.1:\n",
    "            passed = False        \n",
    "    assert(passed)    "
   ]
  },
  {
   "cell_type": "markdown",
   "metadata": {},
   "source": [
    "## Beyond continuity: differentiability \n",
    "Having a continuous objective function made it easy to optimise this solution, compared to having to use pure random search. We can do much better, however.\n",
    "\n",
    "If we can differentiate `l` then we can use **gradient descent** to solve the problem, using the algorithm:\n",
    "\n",
    "$$\\vec{\\theta^{(i+1)}} = \\vec{\\theta^{(i)}} - \\delta \\nabla L(\\vec{\\theta^{(i)}})$$\n",
    "\n",
    "`autograd` makes this trivially easy, and can automatically compute the derivatives of our code:"
   ]
  },
  {
   "cell_type": "code",
   "execution_count": 8,
   "metadata": {},
   "outputs": [],
   "source": [
    "# compute gradient of l with respect to theta\n",
    "## IMPORTANT: grad() takes a *function* and returns a function that evaluates the derivative instead\n",
    "grad_l = grad(l)"
   ]
  },
  {
   "cell_type": "code",
   "execution_count": 9,
   "metadata": {},
   "outputs": [
    {
     "name": "stdout",
     "output_type": "stream",
     "text": [
      "[ 0.2 -1.6 -3.4 -7. ]\n"
     ]
    }
   ],
   "source": [
    "# this will be a vector, with as many dimensions has theta\n",
    "print(grad_l(theta_0))"
   ]
  },
  {
   "cell_type": "markdown",
   "metadata": {},
   "source": [
    "The result is a **vector** which points in the direction where the objective function should be decreasing. We can try moving a small amount in this direction, computing the loss as we go:"
   ]
  },
  {
   "cell_type": "code",
   "execution_count": 10,
   "metadata": {},
   "outputs": [
    {
     "name": "stdout",
     "output_type": "stream",
     "text": [
      "Loss: 5.684399999999998\n",
      "Loss: 2.046384\n",
      "Loss: 0.7366982400000004\n",
      "Loss: 0.26521136640000026\n",
      "Loss: 0.095476091904\n",
      "Loss: 0.03437139308543999\n",
      "Loss: 0.012373701510758426\n",
      "Loss: 0.004454532543873043\n",
      "Loss: 0.0016036317157942864\n",
      "Loss: 0.0005773074176859468\n",
      "Loss: 0.0002078306703669451\n",
      "Loss: 7.481904133210234e-05\n",
      "Loss: 2.6934854879555166e-05\n",
      "Loss: 9.696547756639742e-06\n",
      "Loss: 3.4907571923898273e-06\n"
     ]
    }
   ],
   "source": [
    "theta = np.array(theta_0)\n",
    "delta = 0.2 # how big of steps to take\n",
    "\n",
    "for i in range(15):\n",
    "    theta = theta - delta * grad_l(theta)\n",
    "    print(\"Loss:\", l(theta))"
   ]
  },
  {
   "cell_type": "markdown",
   "metadata": {},
   "source": [
    "This quickly reduces the objective function value, and gets very close to the true solution. While hill-climbing took thousands of iterations, and random search never got close to a good solution, this approach finds a very precise solution in only 15 iterations."
   ]
  },
  {
   "cell_type": "code",
   "execution_count": 11,
   "metadata": {},
   "outputs": [
    {
     "name": "stdout",
     "output_type": "stream",
     "text": [
      "[0.00004702 0.99962385 1.99920069 2.99835435]\n"
     ]
    }
   ],
   "source": [
    "print(theta) # should be close to [0,1,2,3]"
   ]
  },
  {
   "cell_type": "markdown",
   "metadata": {},
   "source": [
    "# The moon phase problem\n",
    "Given an image of the moon, can we predict what phase it is in? For example, the moon image below has a phase of 50 degrees:\n",
    "<img src=\"data/m050.gif\">\n",
    "\n",
    "*Phase:50 degrees* \n",
    "\n",
    "and this one has a phase of 114 degrees:\n",
    "\n",
    "<img src=\"data/m114.gif\">\n",
    "\n",
    " *Phase:114 degrees* \n",
    "\n",
    "How can we use optimisation to solve this problem? We need to have a *parameterisable function* that somehow maps from images to phases, and then adjust the parameters until the function maps moon images onto moon phases. \n",
    "\n",
    "That is, we want to find some function $f$ that takes an image as input, and outputs a moon phase as output. $f$ must be configurable with a vector of parameters $\\theta$.\n",
    "\n",
    "\n",
    "#### Approximation\n",
    "We will be trying to approximate a function. This means we have an objective function of the form:\n",
    "\n",
    "$$L(\\theta) = \\|f(\\vec{x};\\theta)-y\\|$$\n",
    "\n",
    "where we measure the difference between a predicted output $f(\\vec{x};\\theta)$ and a real, expected output $y$, and try and minimise that difference by choosing a good setting for $\\theta$.\n",
    "\n",
    "We will build a simple \"deep learning\" system. We will completely ignore many of the important problems in machine learning, like overfitting, regularisation, efficient network architectures and fair evaluation,  and concentrate on using first-order optimisation to find a function that approximates a known transformation.\n"
   ]
  },
  {
   "cell_type": "markdown",
   "metadata": {},
   "source": [
    "### Loading the data\n",
    "There are 181 images of the moon in files `data/moonXXX.gif`, where `XXX` is a three digit number representing the phase of the moon in degrees. Each image is 100x100 pixels, grayscale. The files are in *two degree increments* of the phase of the moon:\n",
    "\n",
    "    `m000.gif`\n",
    "    `m002.gif`\n",
    "    ...\n",
    "    `m358.gif`\n",
    "    `m360.gif`\n",
    "\n",
    "(the [dataset comes from the US Navy](http://tycho.usno.navy.mil/vphase.html))\n",
    "\n",
    "You can load an image with `ia.load_image_gray()`, as below"
   ]
  },
  {
   "cell_type": "code",
   "execution_count": 12,
   "metadata": {},
   "outputs": [
    {
     "name": "stdout",
     "output_type": "stream",
     "text": [
      "(100, 100)\n"
     ]
    },
    {
     "data": {
      "image/png": "[encoded data removed]",
      "text/plain": [
       "<Figure size 432x288 with 1 Axes>"
      ]
     },
     "metadata": {
      "needs_background": "light"
     },
     "output_type": "display_data"
    }
   ],
   "source": [
    "# *must* divide by 255.0 to normalise the result\n",
    "moon_050 = ia.load_image_gray('data/m050.gif') / 255.0\n",
    "print(moon_050.shape) # should be 100x100\n",
    "ia.show_image_mpl(moon_050) # show the image"
   ]
  },
  {
   "cell_type": "markdown",
   "metadata": {},
   "source": [
    "### Step 1. Load the data\n",
    "* Load all of the moon data into a single tensor `moon`. \n",
    "* **When you load the data, take only every 4th row and every 4th column of each image, to reduce the size of each image to 25x25.**\n",
    "* `moon` should be a 181x25x25 tensor.\n",
    "* Make sure that the images are normalised to [0,1] as above. \n",
    "* Use a `for` loop to load the data. \n",
    "\n",
    "\n",
    "Tip: in Python, you can take an integer `i` and interpolate it into a string with a fixed number of digits like this:"
   ]
  },
  {
   "cell_type": "code",
   "execution_count": 13,
   "metadata": {},
   "outputs": [
    {
     "name": "stdout",
     "output_type": "stream",
     "text": [
      "filename_005\n"
     ]
    }
   ],
   "source": [
    "i = 5\n",
    "fname = f\"filename_{i:03d}\"\n",
    "print(fname)"
   ]
  },
  {
   "cell_type": "code",
   "execution_count": 14,
   "metadata": {
    "deletable": false,
    "nbgrader": {
     "cell_type": "code",
     "checksum": "578aa0417dcd7288f55055345d8ac115",
     "grade": false,
     "grade_id": "cell-3575e4b7ddcbb7da",
     "locked": false,
     "schema_version": 3,
     "solution": true,
     "task": false
    }
   },
   "outputs": [],
   "source": [
    "# YOUR CODE HERE\n",
    "moon = np.array([(ia.load_image_gray(f\"data/m{i*2:03d}.gif\") / 255.0)[::4,::4] for i in range(181)])"
   ]
  },
  {
   "cell_type": "code",
   "execution_count": 15,
   "metadata": {
    "deletable": false,
    "editable": false,
    "nbgrader": {
     "cell_type": "code",
     "checksum": "83402f2513c523b567ad2ceca162342e",
     "grade": true,
     "grade_id": "cell-93d25e17266b10fc",
     "locked": true,
     "points": 4,
     "schema_version": 3,
     "solution": false,
     "task": false
    }
   },
   "outputs": [
    {
     "name": "stdout",
     "output_type": "stream",
     "text": [
      "((181, 25, 25), 949568872.4116551)\n"
     ]
    },
    {
     "data": {
      "text/html": [
       "\n",
       "        <div class=\"alert alert-box alert-success\">\n",
       "        <h1> <!--{id:\"CORRECTMARK\", marks:\"4\"}--> \n",
       "         ✓ [4 marks] \n",
       "         </h1> </div>"
      ],
      "text/plain": [
       "<IPython.core.display.HTML object>"
      ]
     },
     "metadata": {},
     "output_type": "display_data"
    }
   ],
   "source": [
    "with tick.marks(4):\n",
    "    print(array_hash(moon))\n",
    "    assert(check_hash(moon, ((181, 25, 25), 949568872.41165507)))"
   ]
  },
  {
   "cell_type": "markdown",
   "metadata": {
    "nbgrader": {
     "grade": false,
     "grade_id": "cell-c786d7d7f3e02d55",
     "locked": false,
     "schema_version": 3,
     "solution": false,
     "task": false
    }
   },
   "source": [
    "If you did this correctly, you'll see a low-res moon animation when you run the code below:"
   ]
  },
  {
   "cell_type": "code",
   "execution_count": 16,
   "metadata": {},
   "outputs": [
    {
     "data": {
      "image/png": "[encoded data removed]",
      "text/plain": [
       "<IPython.core.display.Image object>"
      ]
     },
     "metadata": {
      "image/png": {
       "width": "100px"
      }
     },
     "output_type": "display_data"
    }
   ],
   "source": [
    "ia.show_gif(moon, width=\"100px\")"
   ]
  },
  {
   "cell_type": "markdown",
   "metadata": {},
   "source": [
    "## Image vectors\n",
    "\n",
    "We have to be able to write this problem in the form:\n",
    "\n",
    "$$L(\\theta) = \\|f(\\vec{x};\\theta)-\\vec{y}\\|$$\n",
    "\n",
    "Every input vector $\\vec{x}$ must have a corresponding matched expected output $\\vec{y}$, and we need a function $f$ that depends on $\\vec{x}$ and $\\theta$.\n",
    "\n",
    "### Inputs\n",
    "What is $\\vec{x}$? How can we define the input to this function? We need to have one vector per example; that is a matrix with one row per moon image. We can do this by reshaping the `moon` tensor to unravel the 25x25 pixel image into a single 625 dimensional vector."
   ]
  },
  {
   "cell_type": "markdown",
   "metadata": {},
   "source": [
    "### Step 2\n",
    "Reshape the moon tensor to a 181x625 matrix; each row being a moon image as a single \"unravelled\" vector. Store this in `moonputs`."
   ]
  },
  {
   "cell_type": "code",
   "execution_count": 17,
   "metadata": {
    "deletable": false,
    "nbgrader": {
     "cell_type": "code",
     "checksum": "c9b9f81be62f38986463d73af06438c6",
     "grade": false,
     "grade_id": "cell-103275cde9c46f8a",
     "locked": false,
     "schema_version": 3,
     "solution": true,
     "task": false
    }
   },
   "outputs": [],
   "source": [
    "# YOUR CODE HERE\n",
    "moonputs = moon.reshape((181, 625))"
   ]
  },
  {
   "cell_type": "code",
   "execution_count": 18,
   "metadata": {
    "deletable": false,
    "editable": false,
    "nbgrader": {
     "cell_type": "code",
     "checksum": "70914901b952632c09f1fac1552628c3",
     "grade": true,
     "grade_id": "cell-ac865ff0662dc92e",
     "locked": true,
     "points": 4,
     "schema_version": 3,
     "solution": false,
     "task": false
    }
   },
   "outputs": [
    {
     "name": "stdout",
     "output_type": "stream",
     "text": [
      "((181, 625), 949568872.4116551)\n"
     ]
    },
    {
     "data": {
      "text/html": [
       "\n",
       "        <div class=\"alert alert-box alert-success\">\n",
       "        <h1> <!--{id:\"CORRECTMARK\", marks:\"4\"}--> \n",
       "         ✓ [4 marks] \n",
       "         </h1> </div>"
      ],
      "text/plain": [
       "<IPython.core.display.HTML object>"
      ]
     },
     "metadata": {},
     "output_type": "display_data"
    }
   ],
   "source": [
    "with tick.marks(4):\n",
    "    print(array_hash(moonputs))\n",
    "    assert(check_hash(moonputs,((181, 625), 949568872.41165507)))"
   ]
  },
  {
   "cell_type": "markdown",
   "metadata": {},
   "source": [
    "### The expected outputs\n",
    "$\\vec{y}$ will be the *known* moon phase for each image. The moon images are taken at two degree increments, so we know that the image `moon[15,:,:]` corresponds to the moon at phase 30 degrees, for example. \n",
    "\n",
    "\n",
    "### Remapping y\n",
    "The neural network we will define will map all predictions to the range [-1,1], so $\\vec{y}$ must be scaled to be in this range.  We *could* just take the angle in degrees and rescale it to the range [-1,1] and use this as the $\\vec{y}$. However, this is quite a difficult function to learn, because moon phase 0 is the same as moon phase 360; the predicted output would have to wrap around suddenly. This would be discontinuous and hard to predict. Instead, we can map the moon phase to a 2D vector, representing a fixed length vector at a given angle, where the angle corresponds to the moon phase.  This vector will be given by $\\vec{y}=[r\\cos(a), -r\\sin(a)]$, where $r$ is an arbitrary scaling factor and $a$ is the phase angle of the moon. This representation has no discontinuities and will be easy to learn.\n",
    "\n",
    "### Step 3\n",
    "With $r=0.5$, generate the `181 x 2` matrix of outputs `expected_outputs`, where each row is $\\vec{y}$ as defined above, for each moon phase corresponding to the rows of the `inputs` matrix. Remember that you will need to convert degrees to radians when using `numpy` trigonometric functions.\n",
    "\n",
    "The image plotted in the test should look like: <img src=\"imgs/angle.png\" width=\"50%\">\n"
   ]
  },
  {
   "cell_type": "code",
   "execution_count": 19,
   "metadata": {
    "deletable": false,
    "nbgrader": {
     "cell_type": "code",
     "checksum": "986b1f509f09bec4892dece7d7eebb07",
     "grade": false,
     "grade_id": "cell-97d66c41b2e493d0",
     "locked": false,
     "schema_version": 3,
     "solution": true,
     "task": false
    }
   },
   "outputs": [],
   "source": [
    "# YOUR CODE HERE\n",
    "expected_outputs = np.array([(0.5*(np.cos(np.radians(i*2))), -0.5*(np.sin(np.radians(i*2)))) for i in range(181)])"
   ]
  },
  {
   "cell_type": "code",
   "execution_count": 20,
   "metadata": {
    "deletable": false,
    "editable": false,
    "nbgrader": {
     "cell_type": "code",
     "checksum": "a5083270da2b04e376086b3e2e3eb402",
     "grade": true,
     "grade_id": "cell-83e11c509a4c50fd",
     "locked": true,
     "points": 4,
     "schema_version": 3,
     "solution": false,
     "task": false
    }
   },
   "outputs": [
    {
     "name": "stdout",
     "output_type": "stream",
     "text": [
      "((181, 2), 5246.951478676427)\n"
     ]
    },
    {
     "data": {
      "text/html": [
       "\n",
       "        <div class=\"alert alert-box alert-success\">\n",
       "        <h1> <!--{id:\"CORRECTMARK\", marks:\"4\"}--> \n",
       "         ✓ [4 marks] \n",
       "         </h1> </div>"
      ],
      "text/plain": [
       "<IPython.core.display.HTML object>"
      ]
     },
     "metadata": {},
     "output_type": "display_data"
    },
    {
     "data": {
      "image/png": "[encoded data removed]",
      "text/plain": [
       "<Figure size 432x288 with 1 Axes>"
      ]
     },
     "metadata": {
      "needs_background": "light"
     },
     "output_type": "display_data"
    }
   ],
   "source": [
    "# plot the results\n",
    "fig, ax = plt.subplots()\n",
    "ax.scatter(expected_outputs[:,0], expected_outputs[:,1], c=np.arange(181), s=2, cmap='magma')\n",
    "ax.set_aspect(1.0)\n",
    "\n",
    "# test that the result is corrected\n",
    "with tick.marks(4):\n",
    "    print(array_hash(expected_outputs))\n",
    "    assert(check_hash(expected_outputs, ((181, 2), 5246.9514786764266)))\n",
    "    \n",
    "    "
   ]
  },
  {
   "cell_type": "markdown",
   "metadata": {},
   "source": [
    "If you have done this correctly, when you run the code below you will see the moons shown in a ring below, new moon on the right, full moon on the left. It should look like the following:\n",
    "\n",
    "<img src=\"imgs/moon_phases.png\" width=\"80%\">"
   ]
  },
  {
   "cell_type": "code",
   "execution_count": 21,
   "metadata": {},
   "outputs": [
    {
     "data": {
      "image/png": "[encoded data removed]",
      "text/plain": [
       "<Figure size 1200x800 with 1 Axes>"
      ]
     },
     "metadata": {},
     "output_type": "display_data"
    }
   ],
   "source": [
    "def show_moons(images, positions):\n",
    "    # show the moons, and their phases\n",
    "    fig = plt.figure(dpi=200)\n",
    "    ax = fig.add_subplot(1,1,1)\n",
    "    ax.set_facecolor('k')\n",
    "    sz = 0.05\n",
    "    for i in range(0,len(expected_outputs),6):\n",
    "        pos = positions[i]\n",
    "        phase = -np.degrees(np.arctan2(pos[1], pos[0]))\n",
    "        if phase<0:\n",
    "            phase += 360\n",
    "        # show the image at the output position\n",
    "        ax.imshow(images[i].reshape(moon.shape[1],moon.shape[2]), extent=[pos[0]-sz, pos[0]+sz, pos[1]-sz, pos[1]+sz], vmin=0, vmax=1, cmap='gray')\n",
    "        # label the phases\n",
    "        if phase<180:\n",
    "            ax.text(pos[0]*.85, pos[1]*.85, \"%.0f\"%(phase), fontsize=4, color='w', rotation=90-phase, ha='center', va='center')\n",
    "        else:\n",
    "            ax.text(pos[0]*1.15, pos[1]*1.15, \"%.0f\"%(phase), fontsize=4, color='w', rotation=90-phase+180, ha='center', va='center')\n",
    "\n",
    "    ax.set_xlim(-0.6,0.6)\n",
    "    ax.set_ylim(-0.6,0.6)\n",
    "    ax.set_xticks([])\n",
    "    ax.set_yticks([])\n",
    "    ax.set_title(\"Moon phases\")\n",
    "    \n",
    "# apply to the *known* inputs and outputs; will be a perfect circle    \n",
    "show_moons(moonputs, expected_outputs)\n"
   ]
  },
  {
   "cell_type": "markdown",
   "metadata": {},
   "source": [
    "## A deep network\n",
    "How will this parameterisable function that maps from images to phases be defined? We will use a very simple deep \"neural network\" predictor. This is an incredibly simple algorithm. It takes a vector, then repeatedly:\n",
    "\n",
    "* adds a small constant\n",
    "* takes the `tanh()` of the resulting vector; this simply squashes all the elements of the vector so they lie in the range [-1,1]\n",
    "* multiplies the vector by a (different) matrix\n",
    "\n",
    "We have to define the *shape* of each of the matrices which will be used to transform the vector, but we *optimise* to find the elements that go into those matrices. This is the \"learning\" part.\n",
    "\n",
    "Each of these steps is traditionally called a \"layer\" of the prediction function."
   ]
  },
  {
   "cell_type": "code",
   "execution_count": 22,
   "metadata": {},
   "outputs": [],
   "source": [
    "# a very basic neural network\n",
    "# the only slightly subtle thing is the unflattening, which is explained below\n",
    "def predict(x, theta, unflatten):        \n",
    "    for w in unflatten(theta):          \n",
    "        x = w.T @ np.tanh(x + 0.1)\n",
    "    return x"
   ]
  },
  {
   "cell_type": "markdown",
   "metadata": {},
   "source": [
    "### Flattening and unflattening\n",
    "<div class=\"alert alert-box alert-danger\"> \n",
    "    \n",
    "**READ THIS SECTION CAREFULLY**\n",
    "\n",
    "</div>\n",
    "\n",
    "To be able to optimise this prediction function in the standard form, we have to package *all* of the things that could vary into a single \"flat\" parameter vector $\\theta$. `predict()` can unpack a list of matrices from a single vector if it is given the right `unflatten` parameter. We can use the `flatten` convenience function to make this easy; this is provided by **autograd**.\n",
    "\n",
    "    theta, unflatten = flatten(list_of_matrices)\n",
    "\n",
    "takes a list of matrices `list_of_matrices` and returns them packed into a single 1D NumPy vector `theta` along with `unflatten`, a function which will reverse that process and unpack all the matrices when applied to `theta`.\n",
    "\n",
    "`flatten` is like a \"super-ravel\" which can be reversed by the `unflatten` function which it returns. Note: `unflatten` is not in any way \"attached\" to the data. It is simply a function which knows how to unpack a list of matrices of certain shapes from a single parameter vector.\n",
    "\n",
    "See the examples below:"
   ]
  },
  {
   "cell_type": "code",
   "execution_count": 23,
   "metadata": {},
   "outputs": [
    {
     "name": "stdout",
     "output_type": "stream",
     "text": [
      "[array([[0., 0., 0.],\n",
      "       [0., 0., 0.],\n",
      "       [0., 0., 0.]]), array([[1., 1., 1., 1.],\n",
      "       [1., 1., 1., 1.]]), array([[2., 2., 2., 2.]])]\n"
     ]
    }
   ],
   "source": [
    "# create a list of matrices\n",
    "list_of_matrices = [np.zeros((3, 3)), np.ones((2, 4)), np.full((1, 4), 2.0)]\n",
    "print(list_of_matrices)"
   ]
  },
  {
   "cell_type": "code",
   "execution_count": 24,
   "metadata": {},
   "outputs": [],
   "source": [
    "# convert to a flat vector\n",
    "# along with a *function* which will later unflatten theta back into a list of matrices\n",
    "theta, unflatten = flatten(list_of_matrices)"
   ]
  },
  {
   "cell_type": "code",
   "execution_count": 25,
   "metadata": {},
   "outputs": [
    {
     "name": "stdout",
     "output_type": "stream",
     "text": [
      "[0. 0. 0. 0. 0. 0. 0. 0. 0. 1. 1. 1. 1. 1. 1. 1. 1. 2. 2. 2. 2.]\n"
     ]
    }
   ],
   "source": [
    "# the flattened version; a single vector\n",
    "print(theta)"
   ]
  },
  {
   "cell_type": "code",
   "execution_count": 26,
   "metadata": {},
   "outputs": [
    {
     "name": "stdout",
     "output_type": "stream",
     "text": [
      "[array([[0., 0., 0.],\n",
      "       [0., 0., 0.],\n",
      "       [0., 0., 0.]]), array([[1., 1., 1., 1.],\n",
      "       [1., 1., 1., 1.]]), array([[2., 2., 2., 2.]])]\n"
     ]
    }
   ],
   "source": [
    "# restore the flattened version to original shapes\n",
    "print(unflatten(theta))"
   ]
  },
  {
   "cell_type": "markdown",
   "metadata": {},
   "source": [
    "### Objective function\n",
    "\n",
    "**Task B.4**\n",
    "\n",
    "Write an objective function that will compare the predicted output to the expected output, for one set of input and output vectors, given `theta`, `unflatten`, `x` and `y`. Use the $L_2$ norm. The function should be of the form\n",
    "\n",
    "    def face_loss(theta, unflatten, x, y):\n",
    "        ...\n",
    "        return l # a scalar\n",
    "        \n",
    "The loss function will need to call `predict` to calculate `y_prime`, the predicted output to compare with `y`. Assume `x` and `y` are vectors. "
   ]
  },
  {
   "cell_type": "code",
   "execution_count": 27,
   "metadata": {
    "deletable": false,
    "nbgrader": {
     "cell_type": "code",
     "checksum": "f2c9b2d190e1763efa3014f88ab5b7f4",
     "grade": false,
     "grade_id": "cell-305c064d9cca8eed",
     "locked": false,
     "schema_version": 3,
     "solution": true
    }
   },
   "outputs": [],
   "source": [
    "def loss(theta, unflatten, x, y):\n",
    "    y_prime = predict(x, theta, unflatten)\n",
    "    return np.linalg.norm(y - y_prime, 2)"
   ]
  },
  {
   "cell_type": "code",
   "execution_count": 28,
   "metadata": {
    "deletable": false,
    "editable": false,
    "nbgrader": {
     "cell_type": "code",
     "checksum": "a6855fe5589875e7f362fdc8aea1609c",
     "grade": true,
     "grade_id": "cell-abd9b2a75fa74b9c",
     "locked": true,
     "points": 4,
     "schema_version": 3,
     "solution": false
    }
   },
   "outputs": [
    {
     "data": {
      "text/html": [
       "\n",
       "        <div class=\"alert alert-box alert-success\">\n",
       "        <h1> <!--{id:\"CORRECTMARK\", marks:\"4\"}--> \n",
       "         ✓ [4 marks] \n",
       "         </h1> </div>"
      ],
      "text/plain": [
       "<IPython.core.display.HTML object>"
      ]
     },
     "metadata": {},
     "output_type": "display_data"
    }
   ],
   "source": [
    "# create a random set of weights, and test that the loss function is computed correctly\n",
    "test_network = [\n",
    "    np.array([[1, 0.5, -0.5], [0.0, 2.0, -1.0]]).T,\n",
    "    np.array([[2.0, 1.0], [1.0, -1.0]]).T,\n",
    "]\n",
    "\n",
    "theta, unflatten = flatten(test_network)\n",
    "\n",
    "with tick.marks(4):\n",
    "    assert (\n",
    "        abs(loss(theta, unflatten, np.array([1, 2, 3]), np.array([-1, 1])) - 3.37) < 0.2\n",
    "    )"
   ]
  },
  {
   "cell_type": "markdown",
   "metadata": {},
   "source": [
    "### Network architecture\n",
    "The choice of the matrix shapes we use to do the prediction affects how well we will be able to model the transformation. In our example, we know we have 625 dimensional inputs (25x25 moon images unraveled into flat vectors) and 2 dimensional outputs (the oriented vectors we generated above). So the we must start with 625 dimensional vectors and end up with 2 dimensional vectors. However, we can introduce any number of intermediate matrices into the prediction function. This gives more parameters that could be tweaked, and more flexibility in how the mapping is learned; it makes the prediction function more *flexible*.\n",
    "\n",
    "A very simple model might have a single 625,2 matrix; this would be a simple linear transformation of the inputs.\n",
    "\n",
    "    W[0]\n",
    "    625, 2\n",
    "\n",
    "A more complex model might have a mapping with:\n",
    "\n",
    "    W[0]     W[1]      W[2]   W[3]\n",
    "    625,32 -> 32,16 -> 16,8 -> 8,2\n",
    "\n",
    "This \"architecture\" maps the 400 dimensional input vector to some 32 dimensional space, then to some 16 dimensional space, then to some 8 dimensional space, then to the 2 dimensional output. Every matrix has to have an output dimension which matches the input dimension of the following matrix. The matrices W[0], W[1], W[2], W[3]  specify how the vector at each layer gets mapped to the next layer. All of these matrices `W[i]` are flattened into a single vector `theta` for optimisation -- this is just a reshaping of their elements.\n",
    "\n",
    "\n",
    "We *don't know* what values should go into these matrices; they specify some unknown transformation of the vectors in each step. We have to optimise to find the elements of these matrices.\n",
    "\n",
    "                 W[0]   W[1]   W[2]  W[3] \n",
    "    (input) 625D -> 32D -> 16D -> 8D -> 2D  (output)\n",
    "\n",
    "The choices of these matrix shapes are not hugely important (I just made the ones above up); but more matrices with more elements means a more flexible function which can learn more complicated things; but will be harder to optimise efficiently.\n",
    "\n",
    "For this lab, assume that the matrix shapes to be used are:\n",
    "\n",
    "    625,32  32,16  16,8  8,2\n",
    "\n",
    "This will work well, without being too hard to optimise. You can alter this if you want, but the above version is known to work."
   ]
  },
  {
   "cell_type": "markdown",
   "metadata": {},
   "source": [
    "### Task: initialisation\n",
    "We need to set up some *initial conditions* for the optimisation process. We can define the shape of each matrix, but we don't know what the values of the elements in the matrices should be, because we will find this by optimisation. So we just make a random guess.\n",
    "\n",
    "* Create a function that generates initial conditions for the prediction function. \n",
    "* This function should take a list of matrix *shapes*, and create a corresponding list of randomly filled matrices.  \n",
    "* Each matrix generated should have the specified shape.  \n",
    "* The function should take a parameter `sigma` that should specify the spread of the random values chosen.\n",
    "\n",
    "Use `np.random.normal(0, sigma, shape)` to generate the random numbers.\n",
    "\n",
    "Return the **flattened** version of the matrix list, along with the corresponding `unflatten` function.\n",
    "\n",
    "Your function should have the form:\n",
    "    \n",
    "    def initial_conditions(shape_list, sigma):\n",
    "        ...\n",
    "        return theta, unflatten        \n",
    "\n",
    "For example `initial_conditions([[2,3], [3,6]], 0.1)` should return the flattened version of a `(2,3)` and `(3,6)` shape random matrices."
   ]
  },
  {
   "cell_type": "code",
   "execution_count": 29,
   "metadata": {
    "deletable": false,
    "nbgrader": {
     "cell_type": "code",
     "checksum": "693f96a86d734daa3a6147c300c724e2",
     "grade": false,
     "grade_id": "cell-e0e3ad164bb2dc8d",
     "locked": false,
     "schema_version": 3,
     "solution": true,
     "task": false
    }
   },
   "outputs": [],
   "source": [
    "def initial_conditions(shape_list, sigma):    \n",
    "    return flatten([np.random.normal(0, sigma, shape) for shape in shape_list])"
   ]
  },
  {
   "cell_type": "code",
   "execution_count": 30,
   "metadata": {
    "deletable": false,
    "editable": false,
    "nbgrader": {
     "cell_type": "code",
     "checksum": "c734051f3ff00d5a1ed4fa586be0c679",
     "grade": true,
     "grade_id": "cell-dc771e7f19f77877",
     "locked": true,
     "points": 4,
     "schema_version": 3,
     "solution": false,
     "task": false
    }
   },
   "outputs": [
    {
     "data": {
      "text/html": [
       "\n",
       "        <div class=\"alert alert-box alert-success\">\n",
       "        <h1> <!--{id:\"CORRECTMARK\", marks:\"4\"}--> \n",
       "         ✓ [4 marks] \n",
       "         </h1> </div>"
      ],
      "text/plain": [
       "<IPython.core.display.HTML object>"
      ]
     },
     "metadata": {},
     "output_type": "display_data"
    }
   ],
   "source": [
    "theta, unflatten = initial_conditions([[8,4], [4,8], [2,4]], 0.1)\n",
    "matrices = unflatten(theta)\n",
    "with tick.marks(4):\n",
    "    assert(matrices[0].shape==(8,4))\n",
    "    assert(matrices[1].shape==(4,8))\n",
    "    assert(matrices[2].shape==(2,4))"
   ]
  },
  {
   "cell_type": "markdown",
   "metadata": {},
   "source": [
    "## Random predictions\n",
    "We can use predict to see the effect of applying this function to the moon images. Since all of the matrices are random, the result will be a random mess."
   ]
  },
  {
   "cell_type": "code",
   "execution_count": null,
   "metadata": {},
   "outputs": [
    {
     "data": {
      "text/plain": [
       "Text(0.5, 1.0, 'Random moon phases')"
      ]
     },
     "execution_count": 31,
     "metadata": {},
     "output_type": "execute_result"
    },
    {
     "data": {
      "image/png": "[encoded data removed]",
      "text/plain": [
       "<Figure size 1200x800 with 1 Axes>"
      ]
     },
     "metadata": {},
     "output_type": "display_data"
    }
   ],
   "source": [
    "# create some test initial conditions\n",
    "random_theta, unflatten = initial_conditions( [[625,32], [32, 16],  [16, 8], [8,2]], 0.2)\n",
    "# predict the outputs (will be random junk)\n",
    "predicted_outputs = [predict(moonputs[i], random_theta, unflatten) for i in range(181)]\n",
    "show_moons(moonputs, np.array(predicted_outputs))\n",
    "plt.gca().set_title(\"Random moon phases\")"
   ]
  },
  {
   "cell_type": "markdown",
   "metadata": {},
   "source": [
    "**Task** Write a function `total_moon_loss` that computes the sum of the objective function value for *every* matched input and output pair from `moonputs` and `expected_outputs`.  That is, it computes:\n",
    "\n",
    "$$L(\\theta) = \\sum_i \\|y'_i - f(\\vec{x_i};\\theta)\\|$$\n",
    "\n",
    "where $x_i$ is the ith row of `moonputs`, $y_i$ is the ith row of `expected_outputs` and `theta` is the parameter vector. The function must also take an `unflatten` argument so it can unpack the parameter vector correctly. **This function should use the `loss` function you defined above**"
   ]
  },
  {
   "cell_type": "code",
   "execution_count": null,
   "metadata": {
    "deletable": false,
    "nbgrader": {
     "cell_type": "code",
     "checksum": "a25551b4df270cbeb36be2bb9fe92235",
     "grade": false,
     "grade_id": "cell-a52fc79c200b3f58",
     "locked": false,
     "schema_version": 3,
     "solution": true
    }
   },
   "outputs": [],
   "source": [
    "# compute the sum of losses\n",
    "# for every pair of xs and ys\n",
    "def total_moon_loss(theta, unflatten):\n",
    "    return sum([loss(theta, unflatten, moonputs[i], expected_outputs[i]) for i in range(181)])"
   ]
  },
  {
   "cell_type": "code",
   "execution_count": null,
   "metadata": {
    "deletable": false,
    "editable": false,
    "nbgrader": {
     "cell_type": "code",
     "checksum": "c04f4aa2651f54f15c83ce8615fb3bba",
     "grade": true,
     "grade_id": "cell-cbef7ebe8bc09215",
     "locked": true,
     "points": 2,
     "schema_version": 3,
     "solution": false
    }
   },
   "outputs": [],
   "source": [
    "np.random.seed(2018)\n",
    "\n",
    "# create some test initial conditions\n",
    "random_theta, random_unflatten = flatten([np.random.normal(0,1,(625,4)), np.random.normal(0,1,(4,2))])\n",
    "\n",
    "with tick.marks(2):    \n",
    "    assert(np.allclose(total_moon_loss(random_theta, random_unflatten), 244.98878306938445, atol=1e-1))"
   ]
  },
  {
   "cell_type": "markdown",
   "metadata": {},
   "source": [
    "## Hill-climbing search\n",
    "    \n",
    "You now have enough to build a very basic optimiser. \n",
    "\n",
    "**Task** Implement hill-climbing search to find a set of parameters that produces a better layout than the above version. Note that you will need to return both your optimised `theta` and the `unflatten` required to shape it back into a sequence of matrices (unflatten is passed through the optimiser unchanged). Use matrix shapes `[[625,32], [32, 16],  [16, 8], [8,2]]`\n",
    "\n",
    "You already have `initial_conditions` that will produce an initial guess. Write a function to adjust the parameter vector by a small random variation. Then adapt your hill climbing code from earlier to try and optimise the mapping of moon images to moon positions. Use `total_moon_loss` to compute the objective function summed over every image example.\n"
   ]
  },
  {
   "cell_type": "code",
   "execution_count": null,
   "metadata": {
    "deletable": false,
    "nbgrader": {
     "cell_type": "code",
     "checksum": "e93b3fe2cb20db699a7a7946bbb2fb8f",
     "grade": false,
     "grade_id": "cell-d11024a7368ea627",
     "locked": false,
     "schema_version": 3,
     "solution": true
    }
   },
   "outputs": [],
   "source": [
    "def hill_climbing(l, max_iters, guess_fn, neighbour_fn):    \n",
    "    best_guess, unflatten = guess_fn()\n",
    "    best_loss = l(best_guess, unflatten)\n",
    "    \n",
    "    for i in range(max_iters):\n",
    "        guess = neighbour_fn(best_guess)\n",
    "        if l(guess, unflatten) < best_loss:\n",
    "            best_loss = l(guess, unflatten)\n",
    "            best_guess = guess\n",
    "\n",
    "    return best_guess, unflatten\n",
    "\n",
    "def moon_guess():\n",
    "    return initial_conditions([[625,32], [32, 16], [16, 8], [8,2]], 0.1)\n",
    "    \n",
    "def moon_neighbour(x):\n",
    "    return np.random.normal(0, 0.1, x.shape) + x"
   ]
  },
  {
   "cell_type": "code",
   "execution_count": null,
   "metadata": {
    "deletable": false,
    "editable": false,
    "nbgrader": {
     "cell_type": "code",
     "checksum": "cfc625157cf2c903a67a01efc66e6174",
     "grade": true,
     "grade_id": "cell-05b61fcdd6bd9f43",
     "locked": true,
     "points": 4,
     "schema_version": 3,
     "solution": false
    }
   },
   "outputs": [],
   "source": [
    "np.random.seed(2018)\n",
    "\n",
    "# you will need to define face_guess and face_neighbour\n",
    "result,  unflatten = hill_climbing(total_moon_loss, 250, moon_guess, moon_neighbour)\n",
    "\n",
    "print(\"Loss in prediction {loss}\".format(loss=total_moon_loss(result, unflatten)))\n",
    "\n",
    "with tick.marks(4):\n",
    "    assert(total_moon_loss(result, unflatten)<60)\n",
    "    \n",
    "# prediction should be slightly better than random\n",
    "predicted_outputs = [predict(moonputs[i], result, unflatten) for i in range(181)]\n",
    "show_moons(moonputs, np.array(predicted_outputs))\n",
    "plt.gca().set_title(\"Hill climbed face orientation predictions\")"
   ]
  },
  {
   "cell_type": "markdown",
   "metadata": {},
   "source": [
    "## Gradient descent learning\n",
    "\n",
    "Hill climbing gives some kind of result, but it is not very satisfactory -- although it is still quite impressive that we can learn an approximate face orientation predictor by randomly twiddling some values in a collection of matrices.\n",
    "\n",
    "Now we will optimise with gradient descent, and get a much better result.  In this task, you will have to define a function `sgd_learn`. This will perform a simple form of (stochastic) gradient descent."
   ]
  },
  {
   "cell_type": "markdown",
   "metadata": {},
   "source": [
    "## Differentiation"
   ]
  },
  {
   "cell_type": "markdown",
   "metadata": {},
   "source": [
    "Using automatic differentiation provided by `autograd`, compute the derivative of the loss function `loss` (the loss function for *one* single example you defined above), and call it `grad_moon_loss`. Hint: this is trivial."
   ]
  },
  {
   "cell_type": "code",
   "execution_count": 1,
   "metadata": {
    "deletable": false,
    "nbgrader": {
     "cell_type": "code",
     "checksum": "036ecdc3f2f6c97e6b96750785ea1486",
     "grade": false,
     "grade_id": "cell-16001b56e0b3608b",
     "locked": false,
     "schema_version": 3,
     "solution": true,
     "task": false
    }
   },
   "outputs": [],
   "source": [
    "# YOUR CODE HERE\n",
    "def grad_moon_loss(theta, unflatten, x, y):\n",
    "    return grad(loss(theta, unflatten, x, y))"
   ]
  },
  {
   "cell_type": "code",
   "execution_count": 36,
   "metadata": {
    "deletable": false,
    "editable": false,
    "nbgrader": {
     "cell_type": "code",
     "checksum": "ccc3e446457aae0726e04ace0089e7da",
     "grade": true,
     "grade_id": "cell-7d64ea037c82bbd4",
     "locked": true,
     "points": 4,
     "schema_version": 3,
     "solution": false,
     "task": false
    }
   },
   "outputs": [
    {
     "data": {
      "text/html": [
       "\n",
       "        <div class=\"alert alert-box alert-success\">\n",
       "        <h1> <!--{id:\"CORRECTMARK\", marks:\"4\"}--> \n",
       "         ✓ [4 marks] \n",
       "         </h1> </div>"
      ],
      "text/plain": [
       "<IPython.core.display.HTML object>"
      ]
     },
     "metadata": {},
     "output_type": "display_data"
    }
   ],
   "source": [
    "np.random.seed(2018)\n",
    "\n",
    "# create some test initial conditions\n",
    "random_theta, random_unflatten = flatten(\n",
    "    [np.random.normal(0, 1, (625, 4)), np.random.normal(0, 1, (4, 2))]\n",
    ")\n",
    "\n",
    "with tick.marks(4):\n",
    "    assert np.allclose(np.sum(grad_moon_loss(random_theta, random_unflatten,\n",
    "                              moonputs[0], expected_outputs[0]\n",
    "                             )), 54.01365427573643, atol=1e-1)\n",
    "        "
   ]
  },
  {
   "cell_type": "markdown",
   "metadata": {},
   "source": [
    "**Task** \n",
    "\n",
    "Now define a function to perform stocahstic gradient descent.\n",
    "\n",
    "`sgd_learn(shapes, inputs, outputs, sigma, step, iters)` should:\n",
    "\n",
    "* take a list of matrix `shapes`, a `sigma` to specify the random initialisation of those matrices, a `step` size and a number of `iterations`\n",
    "* generate an initial `theta` from that set of shapes, using the `initial_condition()` function you defined above.\n",
    "* for each of the given number of iterations\n",
    "    * randomly select *ONE* input vector (from `inputs`) and matching output vector (from `outputs`).\n",
    "    * compute the gradient of the objective function for that image/output pair\n",
    "    * make a step, adjusting `theta` in the direction of this gradient, scaled by the step size\n",
    "    * print the iteration count every 500 iterations so you can see that the function is running\n",
    "correctly. \n",
    "\n",
    "* return the flattened vector and the corresponding unflatten function"
   ]
  },
  {
   "cell_type": "markdown",
   "metadata": {},
   "source": [
    "The function definition should look like:\n",
    "\n",
    "        def sgd_learn(shapes, inputs, outputs, sigma, step, iters):\n",
    "            ...        \n",
    "            return theta, unflatten"
   ]
  },
  {
   "cell_type": "markdown",
   "metadata": {},
   "source": [
    "Note: You don't need to implement *any* sophistications like momentum or random restart. You don't need to collect the data into minibatches. The algorithm you implement should be very simple. \n",
    "\n",
    "* You may also want to evaluate the objective function itself at each iteration, and print out the sum of the objective function value overs the last 100 iterations in your print statement (this is optional, but helps in tuning the performance; the number should go down as optimisation progresses)."
   ]
  },
  {
   "cell_type": "code",
   "execution_count": 37,
   "metadata": {
    "deletable": false,
    "nbgrader": {
     "cell_type": "code",
     "checksum": "7b61c989fbb243e39abcf8c70ac0cd8f",
     "grade": false,
     "grade_id": "cell-1548bffbe7a4d279",
     "locked": false,
     "schema_version": 3,
     "solution": true
    }
   },
   "outputs": [],
   "source": [
    "import random\n",
    "\n",
    "def sgd_learn(shapes, inputs, outputs, sigma=0.1, step=0.1, iters=10000):\n",
    "    w, unflatten = initial_conditions(shapes, sigma)\n",
    "\n",
    "    for i in range(iters):\n",
    "        idx = random.randint(0, len(inputs) - 1)\n",
    "        r_input, r_output = inputs[idx], outputs[idx]\n",
    "        w -= grad_moon_loss(w, unflatten, r_input, r_output) * step\n",
    "\n",
    "    #w-=sum([grad_moon_loss(w, unflatten, *list(zip(inputs, outputs))[random.randint(0, len(inputs) - 1)]) * step for i in range(iters)])\n",
    "\n",
    "    return w, unflatten"
   ]
  },
  {
   "cell_type": "code",
   "execution_count": 38,
   "metadata": {
    "deletable": false,
    "editable": false,
    "nbgrader": {
     "cell_type": "code",
     "checksum": "476f7af5025cf4f0dbd220fd5002d179",
     "grade": true,
     "grade_id": "cell-c5e1dcc9c57d02d0",
     "locked": true,
     "points": 2,
     "schema_version": 3,
     "solution": false
    }
   },
   "outputs": [
    {
     "data": {
      "text/html": [
       "\n",
       "        <div class=\"alert alert-box alert-success\">\n",
       "        <h1> <!--{id:\"CORRECTMARK\", marks:\"2\"}--> \n",
       "         ✓ [2 marks] \n",
       "         </h1> </div>"
      ],
      "text/plain": [
       "<IPython.core.display.HTML object>"
      ]
     },
     "metadata": {},
     "output_type": "display_data"
    }
   ],
   "source": [
    "# verify that the shapes come out right\n",
    "with tick.marks(2):\n",
    "    test_theta, test_unflatten = sgd_learn([[625,2]], moonputs, expected_outputs, 0.1, 0.1, 1)\n",
    "    unflattened = test_unflatten(test_theta)\n",
    "    assert(len(unflattened)==1)\n",
    "    assert((unflattened[0].shape)==(625,2))\n"
   ]
  },
  {
   "cell_type": "code",
   "execution_count": 39,
   "metadata": {
    "deletable": false,
    "editable": false,
    "nbgrader": {
     "cell_type": "code",
     "checksum": "5d4153decf71b4038c9b429d0c880543",
     "grade": true,
     "grade_id": "cell-53b4afa114ae3fd2",
     "locked": true,
     "points": 4,
     "schema_version": 3,
     "solution": false
    }
   },
   "outputs": [
    {
     "name": "stdout",
     "output_type": "stream",
     "text": [
      "Mean loss before optimising 2.77; after optimising 0.62\n",
      "Something was learned!\n"
     ]
    },
    {
     "data": {
      "text/html": [
       "\n",
       "        <div class=\"alert alert-box alert-success\">\n",
       "        <h1> <!--{id:\"CORRECTMARK\", marks:\"4\"}--> \n",
       "         ✓ [4 marks] \n",
       "         </h1> </div>"
      ],
      "text/plain": [
       "<IPython.core.display.HTML object>"
      ]
     },
     "metadata": {},
     "output_type": "display_data"
    }
   ],
   "source": [
    "## verify that some learning happens\n",
    "with tick.marks(4):\n",
    "    np.random.seed(2019)\n",
    "    test_theta, test_unflatten = sgd_learn([[625,2]], moonputs, expected_outputs, sigma=0.5, step=0.01, iters=0)\n",
    "    before_losses = [loss(test_theta, test_unflatten, x,y) for x,y in zip(moonputs, expected_outputs)]\n",
    "    \n",
    "    test_theta, test_unflatten = sgd_learn([[625,2]], moonputs, expected_outputs, sigma=0.5, step=0.01, iters=500)\n",
    "    after_losses = [loss(test_theta, test_unflatten, x,y) for x,y in zip(moonputs, expected_outputs)]\n",
    "    print(\"Mean loss before optimising %.2f; after optimising %.2f\" % (np.mean(before_losses),  np.mean(after_losses)))\n",
    "    assert(np.mean(after_losses)/np.mean(before_losses)<0.5)\n",
    "    print(\"Something was learned!\")\n",
    "    "
   ]
  },
  {
   "cell_type": "markdown",
   "metadata": {},
   "source": [
    "**Task**\n",
    "\n",
    "Use this function to learn an approximate mapping from moon images to 2D vectors. You will have to choose:\n",
    "\n",
    "* a **step size** (values in the range 0.1 to 0.0001 are reasonable)\n",
    "* the **sigma** for the initial conditions (values in the range 0.5 to 0.005 are reasonable).\n",
    "\n",
    "These are **hyperparameters** of the optimisation process. \n",
    "\n",
    "* You should use *no more* than 20000 iterations in the learning process. \n",
    "\n",
    "**Warning: if your call to `sgd_learn` takes more than ten minutes to run, the autograder will not accept your result!**\n",
    "\n",
    "Use matrix shapes `[[625,32], [32, 16],  [16, 8], [8,2]]`, *or* choose your own set of matrix shapes (just don't make them so large the optimisation takes forever).\n"
   ]
  },
  {
   "cell_type": "code",
   "execution_count": 40,
   "metadata": {
    "deletable": false,
    "nbgrader": {
     "cell_type": "code",
     "checksum": "9876b0a72a2951be88275753954ca3a0",
     "grade": false,
     "grade_id": "cell-9fed416acb37ebd2",
     "locked": false,
     "schema_version": 3,
     "solution": true
    }
   },
   "outputs": [],
   "source": [
    "## Run sgd_learn(...) in this cell\n",
    "## produce the output theta, unflatten\n",
    "## theta, unflatten = learn(...\n",
    "## LEAVE THIS HERE TO FORCE CONSISTENT RESULTS!\n",
    "np.random.seed(2019)\n",
    "\n",
    "# YOUR CODE HERE\n",
    "theta, unflatten = sgd_learn([[625,32], [32, 16], [16, 8], [8,2]], moonputs, expected_outputs, 0.04, 0.0037, 20000)"
   ]
  },
  {
   "cell_type": "code",
   "execution_count": 41,
   "metadata": {},
   "outputs": [
    {
     "data": {
      "image/png": "[encoded data removed]",
      "text/plain": [
       "<Figure size 1200x800 with 1 Axes>"
      ]
     },
     "metadata": {},
     "output_type": "display_data"
    }
   ],
   "source": [
    "# if your code worked, then it should be able to predict\n",
    "# what phase the moon is, from the image of the moon\n",
    "predicted_outputs = [predict(moonputs[i], theta, unflatten) for i in range(181)]\n",
    "show_moons(moonputs, np.array(predicted_outputs))"
   ]
  },
  {
   "cell_type": "code",
   "execution_count": 42,
   "metadata": {
    "deletable": false,
    "editable": false,
    "nbgrader": {
     "cell_type": "code",
     "checksum": "c6cbddbeac6a9ca601ae69cceb45bfea",
     "grade": true,
     "grade_id": "cell-4471cd37fa703256",
     "locked": true,
     "points": 0,
     "schema_version": 3,
     "solution": false
    }
   },
   "outputs": [
    {
     "name": "stdout",
     "output_type": "stream",
     "text": [
      "Total mean squared prediction error: 0.054288\n"
     ]
    }
   ],
   "source": [
    "predictions = np.array([predict(moonputs[i], theta, unflatten) for i in range(181)])\n",
    "mse_error = np.sqrt(np.mean((predictions - expected_outputs) ** 2))\n",
    "print(\"Total mean squared prediction error: {error:4f}\".format(error=mse_error))"
   ]
  },
  {
   "cell_type": "code",
   "execution_count": 43,
   "metadata": {
    "deletable": false,
    "editable": false,
    "nbgrader": {
     "cell_type": "code",
     "checksum": "489155ab3f041b547d78597d9e4cb98a",
     "grade": true,
     "grade_id": "cell-4471cd37fa7303256",
     "locked": true,
     "points": 8,
     "schema_version": 3,
     "solution": false
    }
   },
   "outputs": [
    {
     "data": {
      "text/html": [
       "\n",
       "        <div class=\"alert alert-box alert-success\">\n",
       "        <h1> <!--{id:\"CORRECTMARK\", marks:\"8\"}--> \n",
       "         ✓ [8 marks] \n",
       "         </h1> </div>"
      ],
      "text/plain": [
       "<IPython.core.display.HTML object>"
      ]
     },
     "metadata": {},
     "output_type": "display_data"
    }
   ],
   "source": [
    "# you get more marks for a more correct answer :)\n",
    "with tick.marks(8):\n",
    "    assert mse_error < 0.5"
   ]
  },
  {
   "cell_type": "code",
   "execution_count": 44,
   "metadata": {
    "deletable": false,
    "editable": false,
    "nbgrader": {
     "cell_type": "code",
     "checksum": "f6b1f435cedc4d12ef76fcd09e438c15",
     "grade": true,
     "grade_id": "cell-fd818f625a6301b9",
     "locked": true,
     "points": 6,
     "schema_version": 3,
     "solution": false
    }
   },
   "outputs": [
    {
     "data": {
      "text/html": [
       "\n",
       "        <div class=\"alert alert-box alert-success\">\n",
       "        <h1> <!--{id:\"CORRECTMARK\", marks:\"6\"}--> \n",
       "         ✓ [6 marks] \n",
       "         </h1> </div>"
      ],
      "text/plain": [
       "<IPython.core.display.HTML object>"
      ]
     },
     "metadata": {},
     "output_type": "display_data"
    }
   ],
   "source": [
    "with tick.marks(6):\n",
    "    assert mse_error < 0.15"
   ]
  },
  {
   "cell_type": "code",
   "execution_count": 45,
   "metadata": {
    "deletable": false,
    "editable": false,
    "nbgrader": {
     "cell_type": "code",
     "checksum": "0c8619da0f9027ebd3e300b9e819256c",
     "grade": true,
     "grade_id": "cell-fef03547993b6f12",
     "locked": true,
     "points": 4,
     "schema_version": 3,
     "solution": false
    }
   },
   "outputs": [
    {
     "data": {
      "text/html": [
       "\n",
       "        <div class=\"alert alert-box alert-success\">\n",
       "        <h1> <!--{id:\"CORRECTMARK\", marks:\"4\"}--> \n",
       "         ✓ [4 marks] \n",
       "         </h1> </div>"
      ],
      "text/plain": [
       "<IPython.core.display.HTML object>"
      ]
     },
     "metadata": {},
     "output_type": "display_data"
    }
   ],
   "source": [
    "with tick.marks(4):\n",
    "    assert mse_error < 0.08"
   ]
  },
  {
   "cell_type": "code",
   "execution_count": 46,
   "metadata": {
    "deletable": false,
    "editable": false,
    "nbgrader": {
     "cell_type": "code",
     "checksum": "843ba5b84aad0265ca74276fea4276d8",
     "grade": true,
     "grade_id": "cell-3e8c42fe8ea2caae",
     "locked": true,
     "points": 2,
     "schema_version": 3,
     "solution": false
    }
   },
   "outputs": [
    {
     "data": {
      "text/html": [
       "<hr style=\"height:10px;border:none;color:#f00;background-color:#f00;\" />\n",
       "        <div class=\"alert alert-box alert-danger\">\n",
       "        <h1> <!--{id:\"WRONGMARK\", marks:\"2\"}--> Test failed ✘ [0/2] marks  </h1> </div>"
      ],
      "text/plain": [
       "<IPython.core.display.HTML object>"
      ]
     },
     "metadata": {},
     "output_type": "display_data"
    },
    {
     "ename": "AssertionError",
     "evalue": "",
     "output_type": "error",
     "traceback": [
      "\u001b[1;31m---------------------------------------------------------------------------\u001b[0m",
      "\u001b[1;31mAssertionError\u001b[0m                            Traceback (most recent call last)",
      "\u001b[1;32m<ipython-input-46-29e6aa5eeaeb>\u001b[0m in \u001b[0;36m<module>\u001b[1;34m\u001b[0m\n\u001b[0;32m      1\u001b[0m \u001b[1;32mwith\u001b[0m \u001b[0mtick\u001b[0m\u001b[1;33m.\u001b[0m\u001b[0mmarks\u001b[0m\u001b[1;33m(\u001b[0m\u001b[1;36m2\u001b[0m\u001b[1;33m)\u001b[0m\u001b[1;33m:\u001b[0m\u001b[1;33m\u001b[0m\u001b[1;33m\u001b[0m\u001b[0m\n\u001b[1;32m----> 2\u001b[1;33m     \u001b[1;32massert\u001b[0m \u001b[0mmse_error\u001b[0m \u001b[1;33m<\u001b[0m \u001b[1;36m0.05\u001b[0m\u001b[1;33m\u001b[0m\u001b[1;33m\u001b[0m\u001b[0m\n\u001b[0m",
      "\u001b[1;31mAssertionError\u001b[0m: "
     ]
    }
   ],
   "source": [
    "with tick.marks(2):\n",
    "    assert mse_error < 0.05"
   ]
  },
  {
   "cell_type": "markdown",
   "metadata": {},
   "source": [
    "----"
   ]
  },
  {
   "cell_type": "markdown",
   "metadata": {},
   "source": [
    "If you've got this far, you've managed to build a system which can predict the phase of the moon from a picture of the moon. All that was needed was some simple gradient descent, which optimised a function parameterised with a 20656 dimensional vector (the number of elements in `theta`).\n",
    "\n",
    "This is not a perfect solution. It is not robust to noise, or to variations in the moon position, scale or rotation. We have no idea if it generalises well to other images of the moon than those we trained on. The mapping we used is extremely wasteful, and ignored the fact that pixels which are close together are probably related. All of these things would be fixed in a real deep learning approach, but the the principle remains the same. We create a parameterisable function, then optimise its parameters to align the approximation with some known training examples.\n",
    "\n",
    "<div class=\"alert alert-box alert-success\">\n",
    "\n",
    "# End of assessed portion\n",
    "\n",
    "\n",
    "</div>\n",
    "\n",
    "# Extra material\n",
    "If you really want to understand what is going on in learning in deep networks, read [colah's blog](http://colah.github.io/posts/2015-08-Backprop/),  another [colah article](http://colah.github.io/posts/2014-03-NN-Manifolds-Topology/), and [Nielsen's free book](http://neuralnetworksanddeeplearning.com/), or [Deep learning from scratch](http://www.deepideas.net/deep-learning-from-scratch-i-computational-graphs/). You don't need to know **any** of this for this lab though!"
   ]
  },
  {
   "cell_type": "markdown",
   "metadata": {},
   "source": [
    "### A moon synthesizer: creating images of the moon\n",
    "We have learned a mapping from moon images to moon phases. We can equally well go the other way; from moon phases to moon images. We built a moon phase recogniser. We can also build a moon phase image *synthesizer*, that will take a 2D vector and predict a moon image. Implement this. This is a *trivial* modification of what has already been implemented; but you will need a different set of matrix shapes to map from 2D up to a 625D vector. Check that you can map from a vector like `[-0.5, 0]` to a 25x25 moon image. Call the return values `syn_theta` and `syn_unflatten`:"
   ]
  },
  {
   "cell_type": "code",
   "execution_count": null,
   "metadata": {
    "deletable": false,
    "nbgrader": {
     "cell_type": "code",
     "checksum": "1adeb367d033a454be77fe97242c4069",
     "grade": false,
     "grade_id": "cell-bb9ac8db61044e6a",
     "locked": false,
     "schema_version": 3,
     "solution": true
    }
   },
   "outputs": [],
   "source": [
    "# YOUR CODE HERE"
   ]
  },
  {
   "cell_type": "code",
   "execution_count": null,
   "metadata": {},
   "outputs": [],
   "source": [
    "# test that we can map from a 2 element vector back to a 25x25 element image\n",
    "img = predict(np.array([-0.5, 0]), syn_theta, syn_unflatten)\n",
    "ia.show_image_mpl(img.reshape((25,25)))"
   ]
  },
  {
   "cell_type": "code",
   "execution_count": null,
   "metadata": {},
   "outputs": [],
   "source": [
    "# show the results as a circular moon plot\n",
    "# the images here will be synthesized by the network\n",
    "# they will not use the original image data!\n",
    "predicted_inputs = [predict(pos, syn_theta, syn_unflatten) for pos in expected_outputs]\n",
    "show_moons(predicted_inputs, expected_outputs)"
   ]
  },
  {
   "cell_type": "markdown",
   "metadata": {},
   "source": [
    "## Advanced: A moon autoencoder\n",
    "It is possible to learn a mapping from images to 2D positions *without* training the network with known moon phases. In other words, find a mapping from images to some 2D \"moon phase\" just by looking at the images alone -- a problem of *unsupervised learning*. This can be done with an **autoencoder**; where the function learns a compressive mapping of the inputs through a **bottleneck layer** back to a (noisy) reconstruction of the original inputs. You can do this using a set of matrices which goes from 625 dimensions down through a number of transformations to 2 dimensions, then back up to 625 dimensions, and setting the loss to be the difference *between the input and the predicted input*.\n",
    "\n",
    "For example:\n",
    "\n",
    "                                   \n",
    "    (input) 625D -> 100D -> 20D -> 2D ->  20D -> 100D -> 625D (reconstructed input)\n",
    "                                   ^ bottleneck layer\n",
    "\n",
    "Then, you can predict what happens in the \"middle\" of the transformation where the projection has been forced down to 2D. This is a 2D \"explanation\" of the data, and will hopefully capture the phase of the moon somehow. If you attempt this, you will need to read up on autoencoders before you will be able to make progress. The function below is very useful for partially evaluating a network:"
   ]
  },
  {
   "cell_type": "code",
   "execution_count": null,
   "metadata": {},
   "outputs": [],
   "source": [
    "def partial_predict(x, theta, unflatten, from_to):\n",
    "    # evaluate from layer from_to[0] to from_to[1]\n",
    "    for w in unflatten(theta)[from_to[0]:from_to[1]]:  \n",
    "        x = w.T @ np.tanh(x + 0.1)\n",
    "    return x"
   ]
  },
  {
   "cell_type": "code",
   "execution_count": null,
   "metadata": {
    "deletable": false,
    "nbgrader": {
     "cell_type": "code",
     "checksum": "f472b180dd1d01a5d8566c368136fe3c",
     "grade": false,
     "grade_id": "cell-5ffba9fc36ab6631",
     "locked": false,
     "schema_version": 3,
     "solution": true
    }
   },
   "outputs": [],
   "source": [
    "# YOUR CODE HERE"
   ]
  },
  {
   "cell_type": "code",
   "execution_count": null,
   "metadata": {
    "deletable": false,
    "editable": false,
    "nbgrader": {
     "cell_type": "code",
     "checksum": "ad6053d7fc7b92c21cadeb42635b8b31",
     "grade": true,
     "grade_id": "cell-465e3ba1c0b05a74",
     "locked": true,
     "points": 0,
     "schema_version": 3,
     "solution": false
    }
   },
   "outputs": [],
   "source": [
    "# assumes you called the results auto_theta, auto_unflatten\n",
    "posns = [partial_predict(x, auto_theta, auto_unflatten, (0,2)) for x in moonputs]\n",
    "poses = np.array(posns)\n",
    "poses = posns - np.mean(poses, axis=0)\n",
    "show_moons(moonputs, poses/3)"
   ]
  },
  {
   "cell_type": "markdown",
   "metadata": {},
   "source": [
    "This image was generated from the face data without providing any information on the expected output  face orientations. The orientations have a random offset (about 240 degrees), but consistently recover the variation in the face orientation."
   ]
  },
  {
   "cell_type": "markdown",
   "metadata": {},
   "source": [
    "-----\n",
    "\n",
    "# Submission instructions"
   ]
  },
  {
   "cell_type": "markdown",
   "metadata": {},
   "source": [
    "## Before submission\n",
    "\n",
    "* Make sure you fill in any place that says `YOUR CODE HERE` or `\"YOUR ANSWER HERE\"`.\n",
    "* SAVE THE NOTEBOOK\n",
    "\n",
    "\n",
    "\n"
   ]
  },
  {
   "cell_type": "markdown",
   "metadata": {},
   "source": [
    "<div class=\"alert alert-block alert-danger\">\n",
    "    \n",
    "### Formatting the submission\n",
    "* **WARNING**: If you do not submit the correct file, you will not get any marks.\n",
    "* Submit this file **only** on Moodle. It will be named `<xxx>.ipynb`.\n",
    "\n",
    "</div>"
   ]
  },
  {
   "cell_type": "markdown",
   "metadata": {},
   "source": [
    "\n",
    "## Penalties (only for assessed labs)\n",
    "<font color=\"red\">\n",
    "    \n",
    "**Malformatted submissions**\n",
    "</font>\n",
    "These assignments are processed with an automatic tool; failure to follow instructions *precisely* will lead to you automatically losing two bands in grade regardless of whether the work is correct (not to mention a long delay in getting your work back). **If you submit a file without your work in it, it will be marked and you will get 0 marks.**\n",
    "\n",
    "<font color=\"red\">**Late submission**</font>\n",
    "Be aware that there is a two band penalty for every *day* of late submission, starting the moment of the deadline.\n",
    "\n",
    "<font color=\"red\">\n",
    "    \n",
    "**Plagiarism**\n",
    "</font> Plagiarism will be subject to the Plagiarism Policy. The penalties are severe."
   ]
  },
  {
   "cell_type": "code",
   "execution_count": null,
   "metadata": {},
   "outputs": [],
   "source": []
  }
 ],
 "metadata": {
  "jupytext": {
   "text_representation": {
    "format_version": "1.0"
   }
  },
  "kernelspec": {
   "display_name": "Python 3",
   "language": "python",
   "name": "python3"
  },
  "language_info": {
   "codemirror_mode": {
    "name": "ipython",
    "version": 3
   },
   "file_extension": ".py",
   "mimetype": "text/x-python",
   "name": "python",
   "nbconvert_exporter": "python",
   "pygments_lexer": "ipython3",
   "version": "3.8.5"
  },
  "toc": {
   "base_numbering": 1,
   "nav_menu": {},
   "number_sections": true,
   "sideBar": true,
   "skip_h1_title": false,
   "title_cell": "Table of Contents",
   "title_sidebar": "Contents",
   "toc_cell": false,
   "toc_position": {},
   "toc_section_display": "block",
   "toc_window_display": false
  },
  "varInspector": {
   "cols": {
    "lenName": 16,
    "lenType": 16,
    "lenVar": 40
   },
   "kernels_config": {
    "python": {
     "delete_cmd_postfix": "",
     "delete_cmd_prefix": "del ",
     "library": "var_list.py",
     "varRefreshCmd": "print(var_dic_list())"
    },
    "r": {
     "delete_cmd_postfix": ") ",
     "delete_cmd_prefix": "rm(",
     "library": "var_list.r",
     "varRefreshCmd": "cat(var_dic_list()) "
    }
   },
   "types_to_exclude": [
    "module",
    "function",
    "builtin_function_or_method",
    "instance",
    "_Feature"
   ],
   "window_display": false
  }
 },
 "nbformat": 4,
 "nbformat_minor": 2
}
